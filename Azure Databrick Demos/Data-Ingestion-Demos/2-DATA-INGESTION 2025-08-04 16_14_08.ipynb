{
 "cells": [
  {
   "cell_type": "code",
   "execution_count": 0,
   "metadata": {
    "application/vnd.databricks.v1+cell": {
     "cellMetadata": {
      "byteLimit": 2048000,
      "rowLimit": 10000
     },
     "inputWidgets": {},
     "nuid": "d01d2f46-0dc3-4637-9148-9190a67e99a7",
     "showTitle": false,
     "tableResultSettingsMap": {},
     "title": ""
    }
   },
   "outputs": [],
   "source": [
    "# ✅ Step 1: Define your Azure Storage info\n",
    "storage_account_name = \"dmodemoaccount123\"\n",
    "storage_account_key = \"\"  # Replace with actual key from Azure Portal\n",
    "\n",
    "# ✅ Step 2: Set Spark config for accessing ADLS Gen2\n",
    "spark.conf.set(\n",
    "    f\"fs.azure.account.key.{storage_account_name}.dfs.core.windows.net\",\n",
    "    storage_account_key\n",
    ")"
   ]
  },
  {
   "cell_type": "code",
   "execution_count": 0,
   "metadata": {
    "application/vnd.databricks.v1+cell": {
     "cellMetadata": {
      "byteLimit": 2048000,
      "rowLimit": 10000
     },
     "inputWidgets": {},
     "nuid": "ec1f5ab5-66b3-4960-9f1a-50583b29b9c1",
     "showTitle": false,
     "tableResultSettingsMap": {},
     "title": ""
    }
   },
   "outputs": [
    {
     "name": "stdout",
     "output_type": "stream",
     "text": [
      "dailyPricingSourceIngest\n"
     ]
    }
   ],
   "source": [
    "processName=dbutils.widgets.get(\"prm_processName\")\n",
    "print(processName)\n",
    "# DBTITLE 1"
   ]
  },
  {
   "cell_type": "code",
   "execution_count": 0,
   "metadata": {
    "application/vnd.databricks.v1+cell": {
     "cellMetadata": {
      "byteLimit": 2048000,
      "rowLimit": 10000
     },
     "inputWidgets": {},
     "nuid": "5521e18f-a583-4cc6-9682-81ef4a184352",
     "showTitle": false,
     "tableResultSettingsMap": {},
     "title": ""
    }
   },
   "outputs": [
    {
     "name": "stdout",
     "output_type": "stream",
     "text": [
      "DataFrame[NEXT_SOURCE_FILE_DATE: date]\n",
      "2025-03-02\n"
     ]
    }
   ],
   "source": [
    "nextSourceFileDateSql=f\"\"\"\n",
    "SELECT DATE_ADD(MAX(CAST(PROCESS_FILE_TABLE_DATE AS DATE)), 1) as NEXT_SOURCE_FILE_DATE\n",
    "FROM processrunlogs.deltalakehouse_process_run where PROCESS_STATUS='Completed' and PROCESS_NAME='dailyPricingSourceIngest'\n",
    "\"\"\"\n",
    "\n",
    "nextSourceFileDateDF=spark.sql(nextSourceFileDateSql)\n",
    "print(nextSourceFileDateDF.select(\"NEXT_SOURCE_FILE_DATE\"))\n",
    "nextSourceFileDateDF.select(\"NEXT_SOURCE_FILE_DATE\").collect()[0]['NEXT_SOURCE_FILE_DATE']\n",
    "print(nextSourceFileDateDF.select(\"NEXT_SOURCE_FILE_DATE\").collect()[0]['NEXT_SOURCE_FILE_DATE'])\n"
   ]
  },
  {
   "cell_type": "code",
   "execution_count": 0,
   "metadata": {
    "application/vnd.databricks.v1+cell": {
     "cellMetadata": {
      "byteLimit": 2048000,
      "rowLimit": 10000
     },
     "inputWidgets": {},
     "nuid": "2180adc8-398d-4ad0-865f-a1c1c70bcc89",
     "showTitle": false,
     "tableResultSettingsMap": {},
     "title": ""
    }
   },
   "outputs": [],
   "source": [
    "dailyPricingSourceBaseURL=\"https://retailpricing.blob.core.windows.net/\"\n",
    "dailyPricingSourceFolder=\"daily-pricing/\"\n",
    "dailyPricingSourceFileName=\"PW_MW_DR_01012023.csv\"\n",
    "\n",
    "dailyPricingSinkLayerName=\"bronze\"\n",
    "dailyPricingSinkStorageAccountName=storage_account_name\n",
    "dailyPricingSinkFolderName=\"daily-pricing\""
   ]
  },
  {
   "cell_type": "code",
   "execution_count": 0,
   "metadata": {
    "application/vnd.databricks.v1+cell": {
     "cellMetadata": {
      "byteLimit": 2048000,
      "rowLimit": 10000
     },
     "inputWidgets": {},
     "nuid": "e8469b13-8f93-4f6b-a87a-926c13b5c8da",
     "showTitle": false,
     "tableResultSettingsMap": {},
     "title": ""
    }
   },
   "outputs": [],
   "source": [
    "import pandas as pds"
   ]
  },
  {
   "cell_type": "code",
   "execution_count": 0,
   "metadata": {
    "application/vnd.databricks.v1+cell": {
     "cellMetadata": {
      "byteLimit": 2048000,
      "rowLimit": 10000
     },
     "inputWidgets": {},
     "nuid": "35346b27-0f3a-4d39-83d9-5f61c79347c4",
     "showTitle": false,
     "tableResultSettingsMap": {},
     "title": ""
    }
   },
   "outputs": [
    {
     "name": "stdout",
     "output_type": "stream",
     "text": [
      "https://retailpricing.blob.core.windows.net/daily-pricing/PW_MW_DR_01012023.csv\n"
     ]
    }
   ],
   "source": [
    "dailyPricingSourceURL=dailyPricingSourceBaseURL+dailyPricingSourceFolder+dailyPricingSourceFileName\n",
    "print(dailyPricingSourceURL)"
   ]
  },
  {
   "cell_type": "code",
   "execution_count": 0,
   "metadata": {
    "application/vnd.databricks.v1+cell": {
     "cellMetadata": {
      "byteLimit": 2048000,
      "rowLimit": 10000
     },
     "inputWidgets": {},
     "nuid": "19906d09-9116-4796-95be-06c1e8bba04a",
     "showTitle": false,
     "tableResultSettingsMap": {},
     "title": ""
    }
   },
   "outputs": [
    {
     "data": {
      "text/html": [
       "<div>\n",
       "<style scoped>\n",
       "    .dataframe tbody tr th:only-of-type {\n",
       "        vertical-align: middle;\n",
       "    }\n",
       "\n",
       "    .dataframe tbody tr th {\n",
       "        vertical-align: top;\n",
       "    }\n",
       "\n",
       "    .dataframe thead th {\n",
       "        text-align: right;\n",
       "    }\n",
       "</style>\n",
       "<table border=\"1\" class=\"dataframe\">\n",
       "  <thead>\n",
       "    <tr style=\"text-align: right;\">\n",
       "      <th></th>\n",
       "      <th>DATE_OF_PRICING</th>\n",
       "      <th>ROW_ID</th>\n",
       "      <th>STATE_NAME</th>\n",
       "      <th>MARKET_NAME</th>\n",
       "      <th>PRODUCTGROUP_NAME</th>\n",
       "      <th>PRODUCT_NAME</th>\n",
       "      <th>VARIETY</th>\n",
       "      <th>ORIGIN</th>\n",
       "      <th>ARRIVAL_IN_TONNES</th>\n",
       "      <th>MINIMUM_PRICE</th>\n",
       "      <th>MAXIMUM_PRICE</th>\n",
       "      <th>MODAL_PRICE</th>\n",
       "    </tr>\n",
       "  </thead>\n",
       "  <tbody>\n",
       "    <tr>\n",
       "      <th>0</th>\n",
       "      <td>01/01/2023</td>\n",
       "      <td>12699</td>\n",
       "      <td>Uttar Pradesh</td>\n",
       "      <td>Najibabad</td>\n",
       "      <td>Fruits</td>\n",
       "      <td>Raddish</td>\n",
       "      <td>Raddish</td>\n",
       "      <td>NR</td>\n",
       "      <td>23</td>\n",
       "      <td>250</td>\n",
       "      <td>350</td>\n",
       "      <td>300.0</td>\n",
       "    </tr>\n",
       "    <tr>\n",
       "      <th>1</th>\n",
       "      <td>01/01/2023</td>\n",
       "      <td>12711</td>\n",
       "      <td>Uttar Pradesh</td>\n",
       "      <td>Sahiyapur</td>\n",
       "      <td>Fruits</td>\n",
       "      <td>Raddish</td>\n",
       "      <td>Raddish</td>\n",
       "      <td>NR</td>\n",
       "      <td>2.6</td>\n",
       "      <td>330</td>\n",
       "      <td>415</td>\n",
       "      <td>370.0</td>\n",
       "    </tr>\n",
       "    <tr>\n",
       "      <th>2</th>\n",
       "      <td>01/01/2023</td>\n",
       "      <td>12723</td>\n",
       "      <td>Uttar Pradesh</td>\n",
       "      <td>Ujhani</td>\n",
       "      <td>Fruits</td>\n",
       "      <td>Raddish</td>\n",
       "      <td>Other</td>\n",
       "      <td>NR</td>\n",
       "      <td>0.6</td>\n",
       "      <td>450</td>\n",
       "      <td>550</td>\n",
       "      <td>500.0</td>\n",
       "    </tr>\n",
       "    <tr>\n",
       "      <th>3</th>\n",
       "      <td>01/01/2023</td>\n",
       "      <td>12735</td>\n",
       "      <td>Uttrakhand</td>\n",
       "      <td>Rudrapur</td>\n",
       "      <td>Fruits</td>\n",
       "      <td>Raddish</td>\n",
       "      <td>Other</td>\n",
       "      <td>NR</td>\n",
       "      <td>2.5</td>\n",
       "      <td>100</td>\n",
       "      <td>300</td>\n",
       "      <td>200.0</td>\n",
       "    </tr>\n",
       "    <tr>\n",
       "      <th>4</th>\n",
       "      <td>01/01/2023</td>\n",
       "      <td>12759</td>\n",
       "      <td>Kerala</td>\n",
       "      <td>Manjeswaram</td>\n",
       "      <td>Fruits</td>\n",
       "      <td>Ridge gourd(Tori)</td>\n",
       "      <td>Ridgeguard(Tori)</td>\n",
       "      <td>NR</td>\n",
       "      <td>5</td>\n",
       "      <td>3400</td>\n",
       "      <td>4400</td>\n",
       "      <td>3900.0</td>\n",
       "    </tr>\n",
       "  </tbody>\n",
       "</table>\n",
       "</div>"
      ],
      "text/plain": [
       "  DATE_OF_PRICING  ROW_ID  ... MAXIMUM_PRICE MODAL_PRICE\n",
       "0      01/01/2023   12699  ...           350       300.0\n",
       "1      01/01/2023   12711  ...           415       370.0\n",
       "2      01/01/2023   12723  ...           550       500.0\n",
       "3      01/01/2023   12735  ...           300       200.0\n",
       "4      01/01/2023   12759  ...          4400      3900.0\n",
       "\n",
       "[5 rows x 12 columns]"
      ]
     },
     "execution_count": 33,
     "metadata": {},
     "output_type": "execute_result"
    }
   ],
   "source": [
    "dailyPricingPandasDF=pds.read_csv(dailyPricingSourceURL)\n",
    "dailyPricingPandasDF.head()"
   ]
  },
  {
   "cell_type": "code",
   "execution_count": 0,
   "metadata": {
    "application/vnd.databricks.v1+cell": {
     "cellMetadata": {
      "byteLimit": 2048000,
      "rowLimit": 10000
     },
     "inputWidgets": {},
     "nuid": "b36b5bb4-406e-4d14-bedb-597bc4a733c2",
     "showTitle": false,
     "tableResultSettingsMap": {},
     "title": ""
    }
   },
   "outputs": [
    {
     "name": "stdout",
     "output_type": "stream",
     "text": [
      "root\n",
      " |-- DATE_OF_PRICING: string (nullable = true)\n",
      " |-- ROW_ID: long (nullable = true)\n",
      " |-- STATE_NAME: string (nullable = true)\n",
      " |-- MARKET_NAME: string (nullable = true)\n",
      " |-- PRODUCTGROUP_NAME: string (nullable = true)\n",
      " |-- PRODUCT_NAME: string (nullable = true)\n",
      " |-- VARIETY: string (nullable = true)\n",
      " |-- ORIGIN: string (nullable = true)\n",
      " |-- ARRIVAL_IN_TONNES: string (nullable = true)\n",
      " |-- MINIMUM_PRICE: string (nullable = true)\n",
      " |-- MAXIMUM_PRICE: string (nullable = true)\n",
      " |-- MODAL_PRICE: double (nullable = true)\n",
      "\n"
     ]
    }
   ],
   "source": [
    "dailyPricingSparkDF=spark.createDataFrame(dailyPricingPandasDF)\n",
    "dailyPricingSparkDF.printSchema()"
   ]
  },
  {
   "cell_type": "code",
   "execution_count": 0,
   "metadata": {
    "application/vnd.databricks.v1+cell": {
     "cellMetadata": {
      "byteLimit": 2048000,
      "rowLimit": 10000
     },
     "inputWidgets": {},
     "nuid": "3e0ed5e9-83c3-4c33-aa05-24214c9208df",
     "showTitle": false,
     "tableResultSettingsMap": {},
     "title": ""
    }
   },
   "outputs": [],
   "source": [
    "# dbutils.fs.ls(\"abfss://bronze@dmodemoaccount123.dfs.core.windows.net/daily-pricing\")"
   ]
  },
  {
   "cell_type": "code",
   "execution_count": 0,
   "metadata": {
    "application/vnd.databricks.v1+cell": {
     "cellMetadata": {
      "byteLimit": 2048000,
      "rowLimit": 10000
     },
     "inputWidgets": {},
     "nuid": "7d2def44-eab9-46f7-b8c9-f785ca0f3cd8",
     "showTitle": false,
     "tableResultSettingsMap": {},
     "title": ""
    }
   },
   "outputs": [],
   "source": [
    "# dbutils.fs.rm(\"abfss://bronze@dmodemoaccount123.dfs.core.windows.net/daily-pricing/\", recurse=True)"
   ]
  },
  {
   "cell_type": "code",
   "execution_count": 0,
   "metadata": {
    "application/vnd.databricks.v1+cell": {
     "cellMetadata": {
      "byteLimit": 2048000,
      "rowLimit": 10000
     },
     "inputWidgets": {},
     "nuid": "8b073479-7063-4a54-980a-e040416d3596",
     "showTitle": false,
     "tableResultSettingsMap": {},
     "title": ""
    }
   },
   "outputs": [
    {
     "name": "stdout",
     "output_type": "stream",
     "text": [
      "abfss://bronze@dmodemoaccount123.dfs.core.windows.net/daily-pricing\n"
     ]
    }
   ],
   "source": [
    "from pyspark.sql.functions import current_timestamp\n",
    "dailyPricingSynkFolderPath=f\"abfss://{dailyPricingSinkLayerName}@{dailyPricingSinkStorageAccountName}.dfs.core.windows.net/{dailyPricingSinkFolderName}\"\n",
    "print(dailyPricingSynkFolderPath)\n",
    "\n",
    "(dailyPricingSparkDF\n",
    " .withColumn(\"source_file_load_date\",current_timestamp())\n",
    " .write\n",
    " .mode(\"append\")\n",
    " .option(\"header\",\"true\")\n",
    " .csv(dailyPricingSynkFolderPath)\n",
    ")"
   ]
  }
 ],
 "metadata": {
  "application/vnd.databricks.v1+notebook": {
   "computePreferences": null,
   "dashboards": [],
   "environmentMetadata": {
    "base_environment": "",
    "environment_version": "2"
   },
   "inputWidgetPreferences": null,
   "language": "python",
   "notebookMetadata": {
    "pythonIndentUnit": 4
   },
   "notebookName": "2-DATA-INGESTION 2025-08-04 16:14:08",
   "widgets": {
    "prm_dailySourceFileDate": {
     "currentValue": "2025-08-04",
     "nuid": "c0237c5a-4157-430b-a2e8-41661c710b14",
     "typedWidgetInfo": {
      "autoCreated": false,
      "defaultValue": "",
      "label": "",
      "name": "prm_dailySourceFileDate",
      "options": {
       "validationRegex": null,
       "widgetDisplayType": "Text"
      },
      "parameterDataType": "String"
     },
     "widgetInfo": {
      "defaultValue": "",
      "label": "",
      "name": "prm_dailySourceFileDate",
      "options": {
       "autoCreated": false,
       "validationRegex": null,
       "widgetType": "text"
      },
      "widgetType": "text"
     }
    },
    "prm_processName": {
     "currentValue": "dailyPricingSourceIngest",
     "nuid": "e046b2de-8e12-4f96-9400-c6d96e8fe22e",
     "typedWidgetInfo": {
      "autoCreated": false,
      "defaultValue": "",
      "label": "",
      "name": "prm_processName",
      "options": {
       "validationRegex": null,
       "widgetDisplayType": "Text"
      },
      "parameterDataType": "String"
     },
     "widgetInfo": {
      "defaultValue": "",
      "label": "",
      "name": "prm_processName",
      "options": {
       "autoCreated": false,
       "validationRegex": null,
       "widgetType": "text"
      },
      "widgetType": "text"
     }
    }
   }
  },
  "language_info": {
   "name": "python"
  }
 },
 "nbformat": 4,
 "nbformat_minor": 0
}
