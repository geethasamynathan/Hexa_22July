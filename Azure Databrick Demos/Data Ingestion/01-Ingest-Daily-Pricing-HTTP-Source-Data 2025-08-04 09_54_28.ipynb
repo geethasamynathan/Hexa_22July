{
 "cells": [
  {
   "cell_type": "code",
   "execution_count": 0,
   "metadata": {
    "application/vnd.databricks.v1+cell": {
     "cellMetadata": {
      "byteLimit": 2048000,
      "rowLimit": 10000
     },
     "inputWidgets": {},
     "nuid": "5e47fa31-7d48-48a6-9882-2912169acff5",
     "showTitle": false,
     "tableResultSettingsMap": {},
     "title": ""
    }
   },
   "outputs": [],
   "source": [
    "sourceCSVFileURL=\"https://retailpricing.blob.core.windows.net/daily-pricing\"\n",
    "bronzelayerCSVFilePath=\"abfss://working-labs@dmodemoaccount123.dfs.core.windows.net/bronze/daily-pricing/csv\""
   ]
  },
  {
   "cell_type": "code",
   "execution_count": 0,
   "metadata": {
    "application/vnd.databricks.v1+cell": {
     "cellMetadata": {
      "byteLimit": 2048000,
      "rowLimit": 10000
     },
     "inputWidgets": {},
     "nuid": "29a58901-0ed1-4474-812f-f1e2f1d2185e",
     "showTitle": false,
     "tableResultSettingsMap": {},
     "title": ""
    }
   },
   "outputs": [],
   "source": [
    "\n",
    "dailyPricingSourceBaseURL=\"https://retailpricing.blob.core.windows.net/\"\n",
    "dailyPricingSourceFolder=\"daily-pricing/\"\n",
    "dailyPricingSourceFileName=\"PW_MW_DR_01012023.csv\"\n",
    "\n",
    "dailyPricingSinkLayerName=\"bronze\"\n",
    "dailyPricingSinkStorageAccountName=\"dmodemoaccount123\"\n",
    "dailyPricingSinkFolderName='daily-pricing'"
   ]
  },
  {
   "cell_type": "code",
   "execution_count": 0,
   "metadata": {
    "application/vnd.databricks.v1+cell": {
     "cellMetadata": {
      "byteLimit": 2048000,
      "rowLimit": 10000
     },
     "inputWidgets": {},
     "nuid": "34916280-c0ad-47b8-b3cb-01e0c1f9eb96",
     "showTitle": false,
     "tableResultSettingsMap": {},
     "title": ""
    }
   },
   "outputs": [],
   "source": [
    "# ✅ Step 1: Define your Azure Storage info\n",
    "storage_account_name = \"dmodemoaccount123\"\n",
    "storage_account_key = \"\"  # Replace with actual key from Azure Portal\n",
    "\n",
    "# ✅ Step 2: Set Spark config for accessing ADLS Gen2\n",
    "spark.conf.set(\n",
    "    f\"fs.azure.account.key.{storage_account_name}.dfs.core.windows.net\",\n",
    "    storage_account_key\n",
    ")"
   ]
  },
  {
   "cell_type": "code",
   "execution_count": 0,
   "metadata": {
    "application/vnd.databricks.v1+cell": {
     "cellMetadata": {
      "byteLimit": 2048000,
      "rowLimit": 10000
     },
     "inputWidgets": {},
     "nuid": "ddb2c35c-7b3a-47c6-b5f8-a783fff262a8",
     "showTitle": false,
     "tableResultSettingsMap": {},
     "title": ""
    }
   },
   "outputs": [],
   "source": [
    "import pandas as pds"
   ]
  },
  {
   "cell_type": "code",
   "execution_count": 0,
   "metadata": {
    "application/vnd.databricks.v1+cell": {
     "cellMetadata": {
      "byteLimit": 2048000,
      "rowLimit": 10000
     },
     "inputWidgets": {},
     "nuid": "c7b357fe-df82-4ffb-b29a-7b5933eefdf5",
     "showTitle": false,
     "tableResultSettingsMap": {},
     "title": ""
    }
   },
   "outputs": [
    {
     "name": "stdout",
     "output_type": "stream",
     "text": [
      "https://retailpricing.blob.core.windows.net/daily-pricing/PW_MW_DR_01012023.csv\n"
     ]
    }
   ],
   "source": [
    "dailyPricingSourceURL = dailyPricingSourceBaseURL + dailyPricingSourceFolder  + dailyPricingSourceFileName\n",
    "print(dailyPricingSourceURL)"
   ]
  },
  {
   "cell_type": "code",
   "execution_count": 0,
   "metadata": {
    "application/vnd.databricks.v1+cell": {
     "cellMetadata": {
      "byteLimit": 2048000,
      "rowLimit": 10000
     },
     "inputWidgets": {},
     "nuid": "b5a83b6b-2795-487f-9dd1-6d06ff477bb0",
     "showTitle": false,
     "tableResultSettingsMap": {},
     "title": ""
    }
   },
   "outputs": [
    {
     "data": {
      "text/html": [
       "<div>\n",
       "<style scoped>\n",
       "    .dataframe tbody tr th:only-of-type {\n",
       "        vertical-align: middle;\n",
       "    }\n",
       "\n",
       "    .dataframe tbody tr th {\n",
       "        vertical-align: top;\n",
       "    }\n",
       "\n",
       "    .dataframe thead th {\n",
       "        text-align: right;\n",
       "    }\n",
       "</style>\n",
       "<table border=\"1\" class=\"dataframe\">\n",
       "  <thead>\n",
       "    <tr style=\"text-align: right;\">\n",
       "      <th></th>\n",
       "      <th>DATE_OF_PRICING</th>\n",
       "      <th>ROW_ID</th>\n",
       "      <th>STATE_NAME</th>\n",
       "      <th>MARKET_NAME</th>\n",
       "      <th>PRODUCTGROUP_NAME</th>\n",
       "      <th>PRODUCT_NAME</th>\n",
       "      <th>VARIETY</th>\n",
       "      <th>ORIGIN</th>\n",
       "      <th>ARRIVAL_IN_TONNES</th>\n",
       "      <th>MINIMUM_PRICE</th>\n",
       "      <th>MAXIMUM_PRICE</th>\n",
       "      <th>MODAL_PRICE</th>\n",
       "    </tr>\n",
       "  </thead>\n",
       "  <tbody>\n",
       "    <tr>\n",
       "      <th>0</th>\n",
       "      <td>01/01/2023</td>\n",
       "      <td>12699</td>\n",
       "      <td>Uttar Pradesh</td>\n",
       "      <td>Najibabad</td>\n",
       "      <td>Fruits</td>\n",
       "      <td>Raddish</td>\n",
       "      <td>Raddish</td>\n",
       "      <td>NR</td>\n",
       "      <td>23</td>\n",
       "      <td>250</td>\n",
       "      <td>350</td>\n",
       "      <td>300.0</td>\n",
       "    </tr>\n",
       "    <tr>\n",
       "      <th>1</th>\n",
       "      <td>01/01/2023</td>\n",
       "      <td>12711</td>\n",
       "      <td>Uttar Pradesh</td>\n",
       "      <td>Sahiyapur</td>\n",
       "      <td>Fruits</td>\n",
       "      <td>Raddish</td>\n",
       "      <td>Raddish</td>\n",
       "      <td>NR</td>\n",
       "      <td>2.6</td>\n",
       "      <td>330</td>\n",
       "      <td>415</td>\n",
       "      <td>370.0</td>\n",
       "    </tr>\n",
       "    <tr>\n",
       "      <th>2</th>\n",
       "      <td>01/01/2023</td>\n",
       "      <td>12723</td>\n",
       "      <td>Uttar Pradesh</td>\n",
       "      <td>Ujhani</td>\n",
       "      <td>Fruits</td>\n",
       "      <td>Raddish</td>\n",
       "      <td>Other</td>\n",
       "      <td>NR</td>\n",
       "      <td>0.6</td>\n",
       "      <td>450</td>\n",
       "      <td>550</td>\n",
       "      <td>500.0</td>\n",
       "    </tr>\n",
       "    <tr>\n",
       "      <th>3</th>\n",
       "      <td>01/01/2023</td>\n",
       "      <td>12735</td>\n",
       "      <td>Uttrakhand</td>\n",
       "      <td>Rudrapur</td>\n",
       "      <td>Fruits</td>\n",
       "      <td>Raddish</td>\n",
       "      <td>Other</td>\n",
       "      <td>NR</td>\n",
       "      <td>2.5</td>\n",
       "      <td>100</td>\n",
       "      <td>300</td>\n",
       "      <td>200.0</td>\n",
       "    </tr>\n",
       "    <tr>\n",
       "      <th>4</th>\n",
       "      <td>01/01/2023</td>\n",
       "      <td>12759</td>\n",
       "      <td>Kerala</td>\n",
       "      <td>Manjeswaram</td>\n",
       "      <td>Fruits</td>\n",
       "      <td>Ridge gourd(Tori)</td>\n",
       "      <td>Ridgeguard(Tori)</td>\n",
       "      <td>NR</td>\n",
       "      <td>5</td>\n",
       "      <td>3400</td>\n",
       "      <td>4400</td>\n",
       "      <td>3900.0</td>\n",
       "    </tr>\n",
       "    <tr>\n",
       "      <th>...</th>\n",
       "      <td>...</td>\n",
       "      <td>...</td>\n",
       "      <td>...</td>\n",
       "      <td>...</td>\n",
       "      <td>...</td>\n",
       "      <td>...</td>\n",
       "      <td>...</td>\n",
       "      <td>...</td>\n",
       "      <td>...</td>\n",
       "      <td>...</td>\n",
       "      <td>...</td>\n",
       "      <td>...</td>\n",
       "    </tr>\n",
       "    <tr>\n",
       "      <th>12872</th>\n",
       "      <td>01/01/2023</td>\n",
       "      <td>12753</td>\n",
       "      <td>Karnataka</td>\n",
       "      <td>Hospet</td>\n",
       "      <td>Fruits</td>\n",
       "      <td>Ridge gourd(Tori)</td>\n",
       "      <td>Ridgeguard(Tori)</td>\n",
       "      <td>NR</td>\n",
       "      <td>2</td>\n",
       "      <td>1200</td>\n",
       "      <td>1400</td>\n",
       "      <td>1300.0</td>\n",
       "    </tr>\n",
       "    <tr>\n",
       "      <th>12873</th>\n",
       "      <td>01/01/2023</td>\n",
       "      <td>12765</td>\n",
       "      <td>Maharashtra</td>\n",
       "      <td>Mumbai</td>\n",
       "      <td>Fruits</td>\n",
       "      <td>Ridge gourd(Tori)</td>\n",
       "      <td>Other</td>\n",
       "      <td>NR</td>\n",
       "      <td>19</td>\n",
       "      <td>2000</td>\n",
       "      <td>2600</td>\n",
       "      <td>2300.0</td>\n",
       "    </tr>\n",
       "    <tr>\n",
       "      <th>12874</th>\n",
       "      <td>01/01/2023</td>\n",
       "      <td>12777</td>\n",
       "      <td>West Bengal</td>\n",
       "      <td>Balarampur</td>\n",
       "      <td>Fruits</td>\n",
       "      <td>Ridge gourd(Tori)</td>\n",
       "      <td>Other</td>\n",
       "      <td>NR</td>\n",
       "      <td>0.04</td>\n",
       "      <td>3000</td>\n",
       "      <td>3100</td>\n",
       "      <td>3050.0</td>\n",
       "    </tr>\n",
       "    <tr>\n",
       "      <th>12875</th>\n",
       "      <td>01/01/2023</td>\n",
       "      <td>12789</td>\n",
       "      <td>Himachal Pradesh</td>\n",
       "      <td>Mandi(Takoli)</td>\n",
       "      <td>Fruits</td>\n",
       "      <td>Season Leaves</td>\n",
       "      <td>Other</td>\n",
       "      <td>NR</td>\n",
       "      <td>0.1</td>\n",
       "      <td>500</td>\n",
       "      <td>700</td>\n",
       "      <td>600.0</td>\n",
       "    </tr>\n",
       "    <tr>\n",
       "      <th>12876</th>\n",
       "      <td>01/01/2023</td>\n",
       "      <td>12801</td>\n",
       "      <td>Karnataka</td>\n",
       "      <td>Mysore (Bandipalya)</td>\n",
       "      <td>Fruits</td>\n",
       "      <td>Seemebadnekai</td>\n",
       "      <td>Seemebadanekai</td>\n",
       "      <td>NR</td>\n",
       "      <td>6</td>\n",
       "      <td>500</td>\n",
       "      <td>700</td>\n",
       "      <td>600.0</td>\n",
       "    </tr>\n",
       "  </tbody>\n",
       "</table>\n",
       "<p>12877 rows × 12 columns</p>\n",
       "</div>"
      ],
      "text/plain": [
       "      DATE_OF_PRICING  ROW_ID  ... MAXIMUM_PRICE MODAL_PRICE\n",
       "0          01/01/2023   12699  ...           350       300.0\n",
       "1          01/01/2023   12711  ...           415       370.0\n",
       "2          01/01/2023   12723  ...           550       500.0\n",
       "3          01/01/2023   12735  ...           300       200.0\n",
       "4          01/01/2023   12759  ...          4400      3900.0\n",
       "...               ...     ...  ...           ...         ...\n",
       "12872      01/01/2023   12753  ...          1400      1300.0\n",
       "12873      01/01/2023   12765  ...          2600      2300.0\n",
       "12874      01/01/2023   12777  ...          3100      3050.0\n",
       "12875      01/01/2023   12789  ...           700       600.0\n",
       "12876      01/01/2023   12801  ...           700       600.0\n",
       "\n",
       "[12877 rows x 12 columns]"
      ]
     },
     "execution_count": 45,
     "metadata": {},
     "output_type": "execute_result"
    }
   ],
   "source": [
    "pds.read_csv(dailyPricingSourceURL)"
   ]
  },
  {
   "cell_type": "code",
   "execution_count": 0,
   "metadata": {
    "application/vnd.databricks.v1+cell": {
     "cellMetadata": {
      "byteLimit": 2048000,
      "rowLimit": 10000
     },
     "inputWidgets": {},
     "nuid": "9d870377-ac13-4e3a-bafe-e4ac9a1f827a",
     "showTitle": false,
     "tableResultSettingsMap": {},
     "title": ""
    }
   },
   "outputs": [],
   "source": []
  },
  {
   "cell_type": "code",
   "execution_count": 0,
   "metadata": {
    "application/vnd.databricks.v1+cell": {
     "cellMetadata": {
      "byteLimit": 2048000,
      "rowLimit": 10000
     },
     "inputWidgets": {},
     "nuid": "4e4f1612-4173-4ec2-a46b-abc312dd5a05",
     "showTitle": false,
     "tableResultSettingsMap": {},
     "title": ""
    }
   },
   "outputs": [
    {
     "data": {
      "text/html": [
       "<div>\n",
       "<style scoped>\n",
       "    .dataframe tbody tr th:only-of-type {\n",
       "        vertical-align: middle;\n",
       "    }\n",
       "\n",
       "    .dataframe tbody tr th {\n",
       "        vertical-align: top;\n",
       "    }\n",
       "\n",
       "    .dataframe thead th {\n",
       "        text-align: right;\n",
       "    }\n",
       "</style>\n",
       "<table border=\"1\" class=\"dataframe\">\n",
       "  <thead>\n",
       "    <tr style=\"text-align: right;\">\n",
       "      <th></th>\n",
       "      <th>DATE_OF_PRICING</th>\n",
       "      <th>ROW_ID</th>\n",
       "      <th>STATE_NAME</th>\n",
       "      <th>MARKET_NAME</th>\n",
       "      <th>PRODUCTGROUP_NAME</th>\n",
       "      <th>PRODUCT_NAME</th>\n",
       "      <th>VARIETY</th>\n",
       "      <th>ORIGIN</th>\n",
       "      <th>ARRIVAL_IN_TONNES</th>\n",
       "      <th>MINIMUM_PRICE</th>\n",
       "      <th>MAXIMUM_PRICE</th>\n",
       "      <th>MODAL_PRICE</th>\n",
       "    </tr>\n",
       "  </thead>\n",
       "  <tbody>\n",
       "    <tr>\n",
       "      <th>0</th>\n",
       "      <td>01/01/2023</td>\n",
       "      <td>12699</td>\n",
       "      <td>Uttar Pradesh</td>\n",
       "      <td>Najibabad</td>\n",
       "      <td>Fruits</td>\n",
       "      <td>Raddish</td>\n",
       "      <td>Raddish</td>\n",
       "      <td>NR</td>\n",
       "      <td>23</td>\n",
       "      <td>250</td>\n",
       "      <td>350</td>\n",
       "      <td>300.0</td>\n",
       "    </tr>\n",
       "    <tr>\n",
       "      <th>1</th>\n",
       "      <td>01/01/2023</td>\n",
       "      <td>12711</td>\n",
       "      <td>Uttar Pradesh</td>\n",
       "      <td>Sahiyapur</td>\n",
       "      <td>Fruits</td>\n",
       "      <td>Raddish</td>\n",
       "      <td>Raddish</td>\n",
       "      <td>NR</td>\n",
       "      <td>2.6</td>\n",
       "      <td>330</td>\n",
       "      <td>415</td>\n",
       "      <td>370.0</td>\n",
       "    </tr>\n",
       "    <tr>\n",
       "      <th>2</th>\n",
       "      <td>01/01/2023</td>\n",
       "      <td>12723</td>\n",
       "      <td>Uttar Pradesh</td>\n",
       "      <td>Ujhani</td>\n",
       "      <td>Fruits</td>\n",
       "      <td>Raddish</td>\n",
       "      <td>Other</td>\n",
       "      <td>NR</td>\n",
       "      <td>0.6</td>\n",
       "      <td>450</td>\n",
       "      <td>550</td>\n",
       "      <td>500.0</td>\n",
       "    </tr>\n",
       "    <tr>\n",
       "      <th>3</th>\n",
       "      <td>01/01/2023</td>\n",
       "      <td>12735</td>\n",
       "      <td>Uttrakhand</td>\n",
       "      <td>Rudrapur</td>\n",
       "      <td>Fruits</td>\n",
       "      <td>Raddish</td>\n",
       "      <td>Other</td>\n",
       "      <td>NR</td>\n",
       "      <td>2.5</td>\n",
       "      <td>100</td>\n",
       "      <td>300</td>\n",
       "      <td>200.0</td>\n",
       "    </tr>\n",
       "    <tr>\n",
       "      <th>4</th>\n",
       "      <td>01/01/2023</td>\n",
       "      <td>12759</td>\n",
       "      <td>Kerala</td>\n",
       "      <td>Manjeswaram</td>\n",
       "      <td>Fruits</td>\n",
       "      <td>Ridge gourd(Tori)</td>\n",
       "      <td>Ridgeguard(Tori)</td>\n",
       "      <td>NR</td>\n",
       "      <td>5</td>\n",
       "      <td>3400</td>\n",
       "      <td>4400</td>\n",
       "      <td>3900.0</td>\n",
       "    </tr>\n",
       "  </tbody>\n",
       "</table>\n",
       "</div>"
      ],
      "text/plain": [
       "  DATE_OF_PRICING  ROW_ID  ... MAXIMUM_PRICE MODAL_PRICE\n",
       "0      01/01/2023   12699  ...           350       300.0\n",
       "1      01/01/2023   12711  ...           415       370.0\n",
       "2      01/01/2023   12723  ...           550       500.0\n",
       "3      01/01/2023   12735  ...           300       200.0\n",
       "4      01/01/2023   12759  ...          4400      3900.0\n",
       "\n",
       "[5 rows x 12 columns]"
      ]
     },
     "execution_count": 46,
     "metadata": {},
     "output_type": "execute_result"
    }
   ],
   "source": [
    "dailyPricingPandasDF=pds.read_csv(dailyPricingSourceURL)\n",
    "dailyPricingPandasDF.head()"
   ]
  },
  {
   "cell_type": "code",
   "execution_count": 0,
   "metadata": {
    "application/vnd.databricks.v1+cell": {
     "cellMetadata": {
      "byteLimit": 2048000,
      "rowLimit": 10000
     },
     "inputWidgets": {},
     "nuid": "3e077d37-29b7-4e63-901f-c94ad41ec28c",
     "showTitle": false,
     "tableResultSettingsMap": {},
     "title": ""
    }
   },
   "outputs": [],
   "source": [
    "dailyPricingSparkDF=spark.createDataFrame(dailyPricingPandasDF)"
   ]
  },
  {
   "cell_type": "code",
   "execution_count": 0,
   "metadata": {
    "application/vnd.databricks.v1+cell": {
     "cellMetadata": {
      "byteLimit": 2048000,
      "rowLimit": 10000
     },
     "inputWidgets": {},
     "nuid": "41efff23-7097-4338-a0e3-111c4908a9c3",
     "showTitle": false,
     "tableResultSettingsMap": {},
     "title": ""
    }
   },
   "outputs": [
    {
     "name": "stdout",
     "output_type": "stream",
     "text": [
      "abfss://bronze@dmodemoaccount123.dfs.core.windows.net/daily-pricing\n"
     ]
    }
   ],
   "source": [
    "dailyPricingSinkFolderPath=f\"abfss://{dailyPricingSinkLayerName}@{dailyPricingSinkStorageAccountName}.dfs.core.windows.net/{dailyPricingSinkFolderName}\"\n",
    "print(dailyPricingSinkFolderPath)\n",
    "# abfss://working-labs@dmodemoaccount123.dfs.core.windows.net/bronze/daily-pricing/csv\n",
    "(dailyPricingSparkDF\n",
    " .write\n",
    "  .option(\"header\", \"true\")\n",
    "  .csv(dailyPricingSinkFolderPath)\n",
    " \n",
    " )"
   ]
  }
 ],
 "metadata": {
  "application/vnd.databricks.v1+notebook": {
   "computePreferences": null,
   "dashboards": [],
   "environmentMetadata": {
    "base_environment": "",
    "environment_version": "2"
   },
   "inputWidgetPreferences": null,
   "language": "python",
   "notebookMetadata": {
    "pythonIndentUnit": 4
   },
   "notebookName": "01-Ingest-Daily-Pricing-HTTP-Source-Data 2025-08-04 09:54:28",
   "widgets": {}
  },
  "language_info": {
   "name": "python"
  }
 },
 "nbformat": 4,
 "nbformat_minor": 0
}
