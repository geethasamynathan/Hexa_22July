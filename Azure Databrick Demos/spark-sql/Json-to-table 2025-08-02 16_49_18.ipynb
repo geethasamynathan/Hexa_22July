{
 "cells": [
  {
   "cell_type": "code",
   "execution_count": 0,
   "metadata": {
    "application/vnd.databricks.v1+cell": {
     "cellMetadata": {},
     "inputWidgets": {},
     "nuid": "a333a6cd-cdf6-4b84-a492-3de129479d16",
     "showTitle": false,
     "tableResultSettingsMap": {},
     "title": ""
    }
   },
   "outputs": [],
   "source": [
    "%python\n",
    "dbutils.fs.ls(sourceJSONFilePath)   "
   ]
  },
  {
   "cell_type": "code",
   "execution_count": 0,
   "metadata": {
    "application/vnd.databricks.v1+cell": {
     "cellMetadata": {},
     "inputWidgets": {},
     "nuid": "2abb6928-fb58-4bdd-ba02-d834f98847d9",
     "showTitle": false,
     "tableResultSettingsMap": {},
     "title": ""
    }
   },
   "outputs": [],
   "source": [
    "select * from JSON.`abfss://working-labs@dmodemoaccount123.dfs.core.windows.net/bronze/daily-pricing/json/part-00002-tid-5682315305464119887-cdfd136d-ce01-4f38-885f-1696419fbe35-486-1-c000.json`"
   ]
  },
  {
   "cell_type": "code",
   "execution_count": 0,
   "metadata": {
    "application/vnd.databricks.v1+cell": {
     "cellMetadata": {},
     "inputWidgets": {},
     "nuid": "fc467c1f-94b2-4f6b-ba32-e3848464d2f5",
     "showTitle": false,
     "tableResultSettingsMap": {},
     "title": ""
    }
   },
   "outputs": [],
   "source": [
    "CREATE VIEW daily_princing_json_externale_View AS\n",
    "select * from JSON.`abfss://working-labs@dmodemoaccount123.dfs.core.windows.net/bronze/daily-pricing/json/part-00002-tid-5682315305464119887-cdfd136d-ce01-4f38-885f-1696419fbe35-486-1-c000.json`"
   ]
  },
  {
   "cell_type": "code",
   "execution_count": 0,
   "metadata": {
    "application/vnd.databricks.v1+cell": {
     "cellMetadata": {},
     "inputWidgets": {},
     "nuid": "dc7b32ae-4d5a-4690-99c1-b4fdb1807f12",
     "showTitle": false,
     "tableResultSettingsMap": {},
     "title": ""
    }
   },
   "outputs": [],
   "source": [
    "SELECT COUNT(*) FROM daily_princing_json_externale_view"
   ]
  },
  {
   "cell_type": "code",
   "execution_count": 0,
   "metadata": {
    "application/vnd.databricks.v1+cell": {
     "cellMetadata": {},
     "inputWidgets": {},
     "nuid": "ed3b518d-9a0b-4336-8675-d52402b23304",
     "showTitle": false,
     "tableResultSettingsMap": {},
     "title": ""
    }
   },
   "outputs": [],
   "source": [
    "describe extended daily_princing_json_externale_view"
   ]
  },
  {
   "cell_type": "code",
   "execution_count": 0,
   "metadata": {
    "application/vnd.databricks.v1+cell": {
     "cellMetadata": {},
     "inputWidgets": {},
     "nuid": "c77091d9-cc9c-4441-b2e1-f3704e5dc6d3",
     "showTitle": false,
     "tableResultSettingsMap": {},
     "title": ""
    }
   },
   "outputs": [],
   "source": [
    "DROP VIEW IF EXISTS default.daily_princing_json_externale_view;  "
   ]
  },
  {
   "cell_type": "code",
   "execution_count": 0,
   "metadata": {
    "application/vnd.databricks.v1+cell": {
     "cellMetadata": {},
     "inputWidgets": {},
     "nuid": "a2f0e277-d2d1-469e-8c7c-ec28cb1129d9",
     "showTitle": false,
     "tableResultSettingsMap": {},
     "title": ""
    }
   },
   "outputs": [],
   "source": [
    "CREATE TABLE daily_pricing_json_external_table AS\n",
    "SELECT * FROM JSON.`abfss://working-labs@dmodemoaccount123.dfs.core.windows.net/bronze/daily-pricing/json/part-00002-tid-5682315305464119887-cdfd136d-ce01-4f38-885f-1696419fbe35-486-1-c000.json`"
   ]
  },
  {
   "cell_type": "code",
   "execution_count": 0,
   "metadata": {
    "application/vnd.databricks.v1+cell": {
     "cellMetadata": {},
     "inputWidgets": {},
     "nuid": "bedb0bf8-adb8-402e-9874-0a68938d6581",
     "showTitle": false,
     "tableResultSettingsMap": {},
     "title": ""
    }
   },
   "outputs": [],
   "source": [
    "DROP TABLE daily_pricing_json_external_table"
   ]
  },
  {
   "cell_type": "code",
   "execution_count": 0,
   "metadata": {
    "application/vnd.databricks.v1+cell": {
     "cellMetadata": {},
     "inputWidgets": {},
     "nuid": "9cb03a1c-18af-4bb8-abfd-522174360fa6",
     "showTitle": false,
     "tableResultSettingsMap": {},
     "title": ""
    }
   },
   "outputs": [],
   "source": [
    "%python\n",
    "dbutils.fs.ls(sourceJSONFilePath)"
   ]
  },
  {
   "cell_type": "code",
   "execution_count": 0,
   "metadata": {
    "application/vnd.databricks.v1+cell": {
     "cellMetadata": {},
     "inputWidgets": {},
     "nuid": "e3e8dd55-c323-4a27-acbb-67dd09d6a019",
     "showTitle": false,
     "tableResultSettingsMap": {},
     "title": ""
    }
   },
   "outputs": [],
   "source": [
    "CREATE TABLE daily_pricing_json_external_table AS\n",
    "SELECT * FROM JSON.`abfss://working-labs@dmodemoaccount123.dfs.core.windows.net/bronze/daily-pricing/json/part-00002-tid-5682315305464119887-cdfd136d-ce01-4f38-885f-1696419fbe35-486-1-c000.json`"
   ]
  },
  {
   "cell_type": "code",
   "execution_count": 0,
   "metadata": {
    "application/vnd.databricks.v1+cell": {
     "cellMetadata": {},
     "inputWidgets": {},
     "nuid": "b6e652b9-7997-4a5d-ab3a-b6006d30877e",
     "showTitle": false,
     "tableResultSettingsMap": {},
     "title": ""
    }
   },
   "outputs": [],
   "source": [
    "%python\n",
    "# Drop table\n",
    "spark.sql(\"DROP TABLE IF EXISTS default.daily_pricing_json_external_table\")\n",
    "\n",
    "# Drop view\n",
    "spark.sql(\"DROP VIEW IF EXISTS default.daily_princing_json_externale_view\")"
   ]
  },
  {
   "cell_type": "code",
   "execution_count": 0,
   "metadata": {
    "application/vnd.databricks.v1+cell": {
     "cellMetadata": {},
     "inputWidgets": {},
     "nuid": "d3247dd9-5ecd-4d89-bb0e-c5b2805b0cdf",
     "showTitle": false,
     "tableResultSettingsMap": {},
     "title": ""
    }
   },
   "outputs": [],
   "source": [
    "%python\n",
    "# Drop table\n",
    "spark.sql(\"DROP TABLE IF EXISTS default.daily_pricing_json_external_table\")\n",
    "\n",
    "# Drop view\n",
    "spark.sql(\"DROP VIEW IF EXISTS default.daily_princing_json_externale_view\")"
   ]
  }
 ],
 "metadata": {
  "application/vnd.databricks.v1+notebook": {
   "computePreferences": null,
   "dashboards": [],
   "environmentMetadata": {
    "base_environment": "",
    "environment_version": "2"
   },
   "inputWidgetPreferences": null,
   "language": "sql",
   "notebookMetadata": {
    "pythonIndentUnit": 4
   },
   "notebookName": "Json-to-table 2025-08-02 16:49:18",
   "widgets": {}
  },
  "language_info": {
   "name": "sql"
  }
 },
 "nbformat": 4,
 "nbformat_minor": 0
}